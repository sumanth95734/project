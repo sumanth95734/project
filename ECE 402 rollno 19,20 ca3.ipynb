{
 "cells": [
  {
   "cell_type": "code",
   "execution_count": 1,
   "metadata": {},
   "outputs": [],
   "source": [
    "# import the libraries as shown below\n",
    "\n",
    "from tensorflow.keras.layers import Input, Lambda, Dense, Flatten,Conv2D\n",
    "from tensorflow.keras.models import Model\n",
    "from tensorflow.keras.applications.vgg19 import VGG19\n",
    "from tensorflow.keras.applications.resnet50 import preprocess_input\n",
    "from tensorflow.keras.preprocessing import image\n",
    "from tensorflow.keras.preprocessing.image import ImageDataGenerator,load_img\n",
    "from tensorflow.keras.models import Sequential\n",
    "import warnings\n",
    "warnings.filterwarnings('ignore')\n",
    "import numpy as np\n",
    "from glob import glob\n",
    "import matplotlib.pyplot as plt"
   ]
  },
  {
   "cell_type": "code",
   "execution_count": 2,
   "metadata": {},
   "outputs": [],
   "source": [
    "# re-size all the images to this\n",
    "IMAGE_SIZE = [224, 224]\n",
    "\n",
    "train_path = 'C:/Users/hi/Downloads/cell_images/Train'\n",
    "valid_path = 'C:/Users/hi/Downloads/cell_images/Test'"
   ]
  },
  {
   "cell_type": "code",
   "execution_count": 3,
   "metadata": {},
   "outputs": [],
   "source": [
    "# Import the Vgg 16 library as shown below and add preprocessing layer to the front of VGG\n",
    "# Here we will be using imagenet weights\n",
    "\n",
    "mobilnet = VGG19(input_shape=IMAGE_SIZE + [3], weights='imagenet', include_top=False)"
   ]
  },
  {
   "cell_type": "code",
   "execution_count": 4,
   "metadata": {},
   "outputs": [],
   "source": [
    "# don't train existing weights\n",
    "for layer in mobilnet.layers:\n",
    "    layer.trainable = False"
   ]
  },
  {
   "cell_type": "code",
   "execution_count": 5,
   "metadata": {},
   "outputs": [],
   "source": [
    "  # useful for getting number of output classes\n",
    "folders = glob('C:/Users/hi/Downloads/Dataset/Train/*')"
   ]
  },
  {
   "cell_type": "code",
   "execution_count": 6,
   "metadata": {},
   "outputs": [
    {
     "data": {
      "text/plain": [
       "['C:/Users/hi/Downloads/Dataset/Train\\\\Parasite',\n",
       " 'C:/Users/hi/Downloads/Dataset/Train\\\\Uninfected']"
      ]
     },
     "execution_count": 6,
     "metadata": {},
     "output_type": "execute_result"
    }
   ],
   "source": [
    "folders"
   ]
  },
  {
   "cell_type": "code",
   "execution_count": 7,
   "metadata": {},
   "outputs": [],
   "source": [
    "# our layers - you can add more if you want\n",
    "x = Flatten()(mobilnet.output)"
   ]
  },
  {
   "cell_type": "code",
   "execution_count": 8,
   "metadata": {},
   "outputs": [],
   "source": [
    "prediction = Dense(len(folders), activation='softmax')(x)\n",
    "\n",
    "# create a model object\n",
    "model = Model(inputs=mobilnet.input, outputs=prediction)"
   ]
  },
  {
   "cell_type": "code",
   "execution_count": 9,
   "metadata": {},
   "outputs": [
    {
     "name": "stdout",
     "output_type": "stream",
     "text": [
      "Model: \"model\"\n",
      "_________________________________________________________________\n",
      " Layer (type)                Output Shape              Param #   \n",
      "=================================================================\n",
      " input_1 (InputLayer)        [(None, 224, 224, 3)]     0         \n",
      "                                                                 \n",
      " block1_conv1 (Conv2D)       (None, 224, 224, 64)      1792      \n",
      "                                                                 \n",
      " block1_conv2 (Conv2D)       (None, 224, 224, 64)      36928     \n",
      "                                                                 \n",
      " block1_pool (MaxPooling2D)  (None, 112, 112, 64)      0         \n",
      "                                                                 \n",
      " block2_conv1 (Conv2D)       (None, 112, 112, 128)     73856     \n",
      "                                                                 \n",
      " block2_conv2 (Conv2D)       (None, 112, 112, 128)     147584    \n",
      "                                                                 \n",
      " block2_pool (MaxPooling2D)  (None, 56, 56, 128)       0         \n",
      "                                                                 \n",
      " block3_conv1 (Conv2D)       (None, 56, 56, 256)       295168    \n",
      "                                                                 \n",
      " block3_conv2 (Conv2D)       (None, 56, 56, 256)       590080    \n",
      "                                                                 \n",
      " block3_conv3 (Conv2D)       (None, 56, 56, 256)       590080    \n",
      "                                                                 \n",
      " block3_conv4 (Conv2D)       (None, 56, 56, 256)       590080    \n",
      "                                                                 \n",
      " block3_pool (MaxPooling2D)  (None, 28, 28, 256)       0         \n",
      "                                                                 \n",
      " block4_conv1 (Conv2D)       (None, 28, 28, 512)       1180160   \n",
      "                                                                 \n",
      " block4_conv2 (Conv2D)       (None, 28, 28, 512)       2359808   \n",
      "                                                                 \n",
      " block4_conv3 (Conv2D)       (None, 28, 28, 512)       2359808   \n",
      "                                                                 \n",
      " block4_conv4 (Conv2D)       (None, 28, 28, 512)       2359808   \n",
      "                                                                 \n",
      " block4_pool (MaxPooling2D)  (None, 14, 14, 512)       0         \n",
      "                                                                 \n",
      " block5_conv1 (Conv2D)       (None, 14, 14, 512)       2359808   \n",
      "                                                                 \n",
      " block5_conv2 (Conv2D)       (None, 14, 14, 512)       2359808   \n",
      "                                                                 \n",
      " block5_conv3 (Conv2D)       (None, 14, 14, 512)       2359808   \n",
      "                                                                 \n",
      " block5_conv4 (Conv2D)       (None, 14, 14, 512)       2359808   \n",
      "                                                                 \n",
      " block5_pool (MaxPooling2D)  (None, 7, 7, 512)         0         \n",
      "                                                                 \n",
      " flatten (Flatten)           (None, 25088)             0         \n",
      "                                                                 \n",
      " dense (Dense)               (None, 2)                 50178     \n",
      "                                                                 \n",
      "=================================================================\n",
      "Total params: 20,074,562\n",
      "Trainable params: 50,178\n",
      "Non-trainable params: 20,024,384\n",
      "_________________________________________________________________\n"
     ]
    }
   ],
   "source": [
    "# view the structure of the model\n",
    "model.summary()"
   ]
  },
  {
   "cell_type": "code",
   "execution_count": 10,
   "metadata": {},
   "outputs": [],
   "source": [
    "from tensorflow.keras.layers import MaxPooling2D"
   ]
  },
  {
   "cell_type": "code",
   "execution_count": 11,
   "metadata": {},
   "outputs": [
    {
     "name": "stdout",
     "output_type": "stream",
     "text": [
      "Model: \"sequential\"\n",
      "_________________________________________________________________\n",
      " Layer (type)                Output Shape              Param #   \n",
      "=================================================================\n",
      " conv2d (Conv2D)             (None, 224, 224, 16)      208       \n",
      "                                                                 \n",
      " max_pooling2d (MaxPooling2D  (None, 112, 112, 16)     0         \n",
      " )                                                               \n",
      "                                                                 \n",
      " conv2d_1 (Conv2D)           (None, 112, 112, 32)      2080      \n",
      "                                                                 \n",
      " max_pooling2d_1 (MaxPooling  (None, 56, 56, 32)       0         \n",
      " 2D)                                                             \n",
      "                                                                 \n",
      " conv2d_2 (Conv2D)           (None, 56, 56, 64)        8256      \n",
      "                                                                 \n",
      " max_pooling2d_2 (MaxPooling  (None, 28, 28, 64)       0         \n",
      " 2D)                                                             \n",
      "                                                                 \n",
      " flatten_1 (Flatten)         (None, 50176)             0         \n",
      "                                                                 \n",
      " dense_1 (Dense)             (None, 500)               25088500  \n",
      "                                                                 \n",
      " dense_2 (Dense)             (None, 2)                 1002      \n",
      "                                                                 \n",
      "=================================================================\n",
      "Total params: 25,100,046\n",
      "Trainable params: 25,100,046\n",
      "Non-trainable params: 0\n",
      "_________________________________________________________________\n"
     ]
    }
   ],
   "source": [
    "### Create Model from scratch using CNN\n",
    "model=Sequential()\n",
    "model.add(Conv2D(filters=16,kernel_size=2,padding=\"same\",activation=\"relu\",input_shape=(224,224,3)))\n",
    "model.add(MaxPooling2D(pool_size=2))\n",
    "model.add(Conv2D(filters=32,kernel_size=2,padding=\"same\",activation =\"relu\"))\n",
    "model.add(MaxPooling2D(pool_size=2))\n",
    "model.add(Conv2D(filters=64,kernel_size=2,padding=\"same\",activation=\"relu\"))\n",
    "model.add(MaxPooling2D(pool_size=2))\n",
    "model.add(Flatten())\n",
    "model.add(Dense(500,activation=\"relu\"))\n",
    "model.add(Dense(2,activation=\"softmax\"))\n",
    "model.summary()"
   ]
  },
  {
   "cell_type": "code",
   "execution_count": 12,
   "metadata": {},
   "outputs": [],
   "source": [
    "# tell the model what cost and optimization method to use\n",
    "model.compile(\n",
    "  loss='categorical_crossentropy',\n",
    "  optimizer='adam',\n",
    "  metrics=['accuracy']\n",
    ")"
   ]
  },
  {
   "cell_type": "code",
   "execution_count": 13,
   "metadata": {},
   "outputs": [],
   "source": [
    "# Use the Image Data Generator to import the images from the dataset\n",
    "from tensorflow.keras.preprocessing.image import ImageDataGenerator\n",
    "\n",
    "train_datagen = ImageDataGenerator(rescale = 1./255,\n",
    "                                   shear_range = 0.2,\n",
    "                                   zoom_range = 0.2,\n",
    "                                   horizontal_flip = True)\n",
    "\n",
    "test_datagen = ImageDataGenerator(rescale = 1./255)"
   ]
  },
  {
   "cell_type": "code",
   "execution_count": 14,
   "metadata": {},
   "outputs": [
    {
     "name": "stdout",
     "output_type": "stream",
     "text": [
      "Found 416 images belonging to 2 classes.\n"
     ]
    }
   ],
   "source": [
    "# Make sure you provide the same target size as initialied for the image size\n",
    "training_set = train_datagen.flow_from_directory('C:/Users/hi/Downloads/Dataset/Train',\n",
    "                                                 target_size = (224, 224),\n",
    "                                                 batch_size = 32,\n",
    "                                                 class_mode = 'categorical')"
   ]
  },
  {
   "cell_type": "code",
   "execution_count": 15,
   "metadata": {},
   "outputs": [
    {
     "data": {
      "text/plain": [
       "<keras.preprocessing.image.DirectoryIterator at 0x1df2444e1c0>"
      ]
     },
     "execution_count": 15,
     "metadata": {},
     "output_type": "execute_result"
    }
   ],
   "source": [
    "training_set"
   ]
  },
  {
   "cell_type": "code",
   "execution_count": 16,
   "metadata": {},
   "outputs": [
    {
     "name": "stdout",
     "output_type": "stream",
     "text": [
      "Found 134 images belonging to 2 classes.\n"
     ]
    }
   ],
   "source": [
    "test_set = test_datagen.flow_from_directory('C:/Users/hi/Downloads/Dataset/Test',\n",
    "                                            target_size = (224, 224),\n",
    "                                            batch_size = 32,\n",
    "                                            class_mode = 'categorical')"
   ]
  },
  {
   "cell_type": "code",
   "execution_count": 17,
   "metadata": {},
   "outputs": [
    {
     "name": "stdout",
     "output_type": "stream",
     "text": [
      "Epoch 1/50\n",
      "13/13 [==============================] - 13s 952ms/step - loss: 1.7660 - accuracy: 0.5889 - val_loss: 0.9566 - val_accuracy: 0.3731\n",
      "Epoch 2/50\n",
      "13/13 [==============================] - 12s 934ms/step - loss: 0.5325 - accuracy: 0.6875 - val_loss: 0.8631 - val_accuracy: 0.6642\n",
      "Epoch 3/50\n",
      "13/13 [==============================] - 13s 1s/step - loss: 0.5593 - accuracy: 0.7139 - val_loss: 1.3855 - val_accuracy: 0.3433\n",
      "Epoch 4/50\n",
      "13/13 [==============================] - 12s 908ms/step - loss: 0.5059 - accuracy: 0.7572 - val_loss: 0.8307 - val_accuracy: 0.4254\n",
      "Epoch 5/50\n",
      "13/13 [==============================] - 12s 930ms/step - loss: 0.4356 - accuracy: 0.7933 - val_loss: 1.1219 - val_accuracy: 0.3582\n",
      "Epoch 6/50\n",
      "13/13 [==============================] - 12s 935ms/step - loss: 0.4156 - accuracy: 0.8077 - val_loss: 0.8887 - val_accuracy: 0.4030\n",
      "Epoch 7/50\n",
      "13/13 [==============================] - 12s 937ms/step - loss: 0.4508 - accuracy: 0.7837 - val_loss: 1.2241 - val_accuracy: 0.3731\n",
      "Epoch 8/50\n",
      "13/13 [==============================] - 12s 906ms/step - loss: 0.4532 - accuracy: 0.7837 - val_loss: 0.7841 - val_accuracy: 0.4104\n",
      "Epoch 9/50\n",
      "13/13 [==============================] - 12s 937ms/step - loss: 0.5087 - accuracy: 0.7308 - val_loss: 0.9516 - val_accuracy: 0.4254\n",
      "Epoch 10/50\n",
      "13/13 [==============================] - 13s 991ms/step - loss: 0.4791 - accuracy: 0.7572 - val_loss: 0.6841 - val_accuracy: 0.5597\n",
      "Epoch 11/50\n",
      "13/13 [==============================] - 16s 1s/step - loss: 0.4268 - accuracy: 0.7981 - val_loss: 0.8984 - val_accuracy: 0.4030\n",
      "Epoch 12/50\n",
      "13/13 [==============================] - 14s 1s/step - loss: 0.3662 - accuracy: 0.8221 - val_loss: 0.8009 - val_accuracy: 0.4851\n",
      "Epoch 13/50\n",
      "13/13 [==============================] - 13s 1s/step - loss: 0.3159 - accuracy: 0.8798 - val_loss: 0.7228 - val_accuracy: 0.5746\n",
      "Epoch 14/50\n",
      "13/13 [==============================] - 12s 952ms/step - loss: 0.2698 - accuracy: 0.8846 - val_loss: 0.7246 - val_accuracy: 0.5970\n",
      "Epoch 15/50\n",
      "13/13 [==============================] - 12s 924ms/step - loss: 0.2380 - accuracy: 0.9135 - val_loss: 0.7599 - val_accuracy: 0.6119\n",
      "Epoch 16/50\n",
      "13/13 [==============================] - 12s 942ms/step - loss: 0.2351 - accuracy: 0.9038 - val_loss: 0.5485 - val_accuracy: 0.6642\n",
      "Epoch 17/50\n",
      "13/13 [==============================] - 12s 940ms/step - loss: 0.2020 - accuracy: 0.9255 - val_loss: 0.6344 - val_accuracy: 0.6418\n",
      "Epoch 18/50\n",
      "13/13 [==============================] - 13s 957ms/step - loss: 0.2282 - accuracy: 0.9135 - val_loss: 0.9803 - val_accuracy: 0.5373\n",
      "Epoch 19/50\n",
      "13/13 [==============================] - 12s 934ms/step - loss: 0.1844 - accuracy: 0.9303 - val_loss: 0.4941 - val_accuracy: 0.7313\n",
      "Epoch 20/50\n",
      "13/13 [==============================] - 12s 946ms/step - loss: 0.1850 - accuracy: 0.9327 - val_loss: 0.3577 - val_accuracy: 0.8507\n",
      "Epoch 21/50\n",
      "13/13 [==============================] - 12s 952ms/step - loss: 0.1514 - accuracy: 0.9471 - val_loss: 0.4189 - val_accuracy: 0.7836\n",
      "Epoch 22/50\n",
      "13/13 [==============================] - 12s 929ms/step - loss: 0.1495 - accuracy: 0.9543 - val_loss: 0.4268 - val_accuracy: 0.7836\n",
      "Epoch 23/50\n",
      "13/13 [==============================] - 12s 908ms/step - loss: 0.1520 - accuracy: 0.9495 - val_loss: 0.3813 - val_accuracy: 0.8060\n",
      "Epoch 24/50\n",
      "13/13 [==============================] - 12s 926ms/step - loss: 0.1091 - accuracy: 0.9615 - val_loss: 0.3290 - val_accuracy: 0.8657\n",
      "Epoch 25/50\n",
      "13/13 [==============================] - 12s 937ms/step - loss: 0.1085 - accuracy: 0.9639 - val_loss: 0.4434 - val_accuracy: 0.8209\n",
      "Epoch 26/50\n",
      "13/13 [==============================] - 13s 955ms/step - loss: 0.1188 - accuracy: 0.9663 - val_loss: 0.3271 - val_accuracy: 0.8582\n",
      "Epoch 27/50\n",
      "13/13 [==============================] - 12s 918ms/step - loss: 0.1228 - accuracy: 0.9543 - val_loss: 0.2682 - val_accuracy: 0.8806\n",
      "Epoch 28/50\n",
      "13/13 [==============================] - 12s 924ms/step - loss: 0.1163 - accuracy: 0.9567 - val_loss: 0.2676 - val_accuracy: 0.9179\n",
      "Epoch 29/50\n",
      "13/13 [==============================] - 12s 935ms/step - loss: 0.1104 - accuracy: 0.9760 - val_loss: 0.2815 - val_accuracy: 0.8806\n",
      "Epoch 30/50\n",
      "13/13 [==============================] - 12s 927ms/step - loss: 0.0993 - accuracy: 0.9760 - val_loss: 0.3183 - val_accuracy: 0.8657\n",
      "Epoch 31/50\n",
      "13/13 [==============================] - 12s 932ms/step - loss: 0.0813 - accuracy: 0.9760 - val_loss: 0.2828 - val_accuracy: 0.8806\n",
      "Epoch 32/50\n",
      "13/13 [==============================] - 12s 918ms/step - loss: 0.0977 - accuracy: 0.9663 - val_loss: 0.4683 - val_accuracy: 0.8358\n",
      "Epoch 33/50\n",
      "13/13 [==============================] - 12s 933ms/step - loss: 0.1074 - accuracy: 0.9591 - val_loss: 0.3351 - val_accuracy: 0.8507\n",
      "Epoch 34/50\n",
      "13/13 [==============================] - 12s 942ms/step - loss: 0.0955 - accuracy: 0.9760 - val_loss: 0.3028 - val_accuracy: 0.8806\n",
      "Epoch 35/50\n",
      "13/13 [==============================] - 12s 931ms/step - loss: 0.2102 - accuracy: 0.9159 - val_loss: 0.5322 - val_accuracy: 0.7687\n",
      "Epoch 36/50\n",
      "13/13 [==============================] - 13s 1s/step - loss: 0.2225 - accuracy: 0.8966 - val_loss: 0.3638 - val_accuracy: 0.8507\n",
      "Epoch 37/50\n",
      "13/13 [==============================] - 12s 931ms/step - loss: 0.1262 - accuracy: 0.9736 - val_loss: 0.3304 - val_accuracy: 0.8657\n",
      "Epoch 38/50\n",
      "13/13 [==============================] - 12s 936ms/step - loss: 0.1213 - accuracy: 0.9591 - val_loss: 0.2135 - val_accuracy: 0.9254\n",
      "Epoch 39/50\n",
      "13/13 [==============================] - 12s 928ms/step - loss: 0.0914 - accuracy: 0.9688 - val_loss: 0.2895 - val_accuracy: 0.8955\n",
      "Epoch 40/50\n",
      "13/13 [==============================] - 13s 984ms/step - loss: 0.0658 - accuracy: 0.9832 - val_loss: 0.2478 - val_accuracy: 0.8955\n",
      "Epoch 41/50\n",
      "13/13 [==============================] - 12s 915ms/step - loss: 0.0678 - accuracy: 0.9760 - val_loss: 0.3903 - val_accuracy: 0.8657\n",
      "Epoch 42/50\n",
      "13/13 [==============================] - 12s 944ms/step - loss: 0.0728 - accuracy: 0.9808 - val_loss: 0.4058 - val_accuracy: 0.8582\n",
      "Epoch 43/50\n",
      "13/13 [==============================] - 13s 954ms/step - loss: 0.0608 - accuracy: 0.9808 - val_loss: 0.1856 - val_accuracy: 0.9328\n",
      "Epoch 44/50\n",
      "13/13 [==============================] - 12s 940ms/step - loss: 0.0766 - accuracy: 0.9808 - val_loss: 0.2579 - val_accuracy: 0.8955\n",
      "Epoch 45/50\n",
      "13/13 [==============================] - 12s 913ms/step - loss: 0.0551 - accuracy: 0.9904 - val_loss: 0.2464 - val_accuracy: 0.9030\n",
      "Epoch 46/50\n",
      "13/13 [==============================] - 12s 924ms/step - loss: 0.0435 - accuracy: 0.9904 - val_loss: 0.1778 - val_accuracy: 0.9328\n",
      "Epoch 47/50\n",
      "13/13 [==============================] - 12s 945ms/step - loss: 0.0644 - accuracy: 0.9832 - val_loss: 0.2132 - val_accuracy: 0.8955\n",
      "Epoch 48/50\n",
      "13/13 [==============================] - 13s 1s/step - loss: 0.0407 - accuracy: 0.9928 - val_loss: 0.2672 - val_accuracy: 0.8881\n",
      "Epoch 49/50\n",
      "13/13 [==============================] - 12s 932ms/step - loss: 0.0283 - accuracy: 0.9904 - val_loss: 0.2123 - val_accuracy: 0.9030\n",
      "Epoch 50/50\n",
      "13/13 [==============================] - 13s 956ms/step - loss: 0.0475 - accuracy: 0.9856 - val_loss: 0.1559 - val_accuracy: 0.9328\n"
     ]
    }
   ],
   "source": [
    "# fit the model\n",
    "# Run the cell. It will take some time to execute\n",
    "r = model.fit_generator(\n",
    "  training_set,\n",
    "  validation_data=test_set,\n",
    "  epochs=50,\n",
    "  steps_per_epoch=len(training_set),\n",
    "  validation_steps=len(test_set)\n",
    ")"
   ]
  },
  {
   "cell_type": "code",
   "execution_count": 18,
   "metadata": {},
   "outputs": [
    {
     "data": {
      "image/png": "[encoded data removed]",
      "text/plain": [
       "<Figure size 432x288 with 1 Axes>"
      ]
     },
     "metadata": {
      "needs_background": "light"
     },
     "output_type": "display_data"
    },
    {
     "data": {
      "image/png": "[encoded data removed]",
      "text/plain": [
       "<Figure size 432x288 with 1 Axes>"
      ]
     },
     "metadata": {
      "needs_background": "light"
     },
     "output_type": "display_data"
    },
    {
     "data": {
      "text/plain": [
       "<Figure size 432x288 with 0 Axes>"
      ]
     },
     "metadata": {},
     "output_type": "display_data"
    }
   ],
   "source": [
    "# plot the loss\n",
    "plt.plot(r.history['loss'], label='train loss')\n",
    "plt.plot(r.history['val_loss'], label='val loss')\n",
    "plt.legend()\n",
    "plt.show()\n",
    "plt.savefig('LossVal_loss')\n",
    "\n",
    "# plot the accuracy\n",
    "plt.plot(r.history['accuracy'], label='train acc')\n",
    "plt.plot(r.history['val_accuracy'], label='val acc')\n",
    "plt.legend()\n",
    "plt.show()\n",
    "plt.savefig('AccVal_acc')"
   ]
  },
  {
   "cell_type": "code",
   "execution_count": 19,
   "metadata": {},
   "outputs": [],
   "source": [
    "# save it as a h5 file\n",
    "\n",
    "\n",
    "from tensorflow.keras.models import load_model\n",
    "\n",
    "model.save('model_vgg19.h5')"
   ]
  },
  {
   "cell_type": "code",
   "execution_count": 20,
   "metadata": {},
   "outputs": [
    {
     "name": "stdout",
     "output_type": "stream",
     "text": [
      "5/5 [==============================] - 1s 133ms/step\n"
     ]
    }
   ],
   "source": [
    "y_pred = model.predict(test_set)"
   ]
  },
  {
   "cell_type": "code",
   "execution_count": 21,
   "metadata": {},
   "outputs": [
    {
     "data": {
      "text/plain": [
       "array([[1.95937958e-02, 9.80406165e-01],\n",
       "       [9.99199688e-01, 8.00300972e-04],\n",
       "       [6.52384311e-02, 9.34761524e-01],\n",
       "       [2.25909337e-01, 7.74090648e-01],\n",
       "       [9.97938216e-01, 2.06172885e-03],\n",
       "       [9.99988317e-01, 1.16779920e-05],\n",
       "       [2.23469272e-01, 7.76530683e-01],\n",
       "       [9.95105147e-01, 4.89481678e-03],\n",
       "       [6.97854534e-02, 9.30214584e-01],\n",
       "       [9.99999881e-01, 8.45201455e-08],\n",
       "       [9.99199450e-01, 8.00521695e-04],\n",
       "       [7.18173757e-02, 9.28182602e-01],\n",
       "       [5.55877713e-03, 9.94441211e-01],\n",
       "       [9.99835253e-01, 1.64768397e-04],\n",
       "       [9.99668002e-01, 3.32039723e-04],\n",
       "       [2.67393216e-02, 9.73260701e-01],\n",
       "       [1.38557583e-01, 8.61442387e-01],\n",
       "       [9.98766780e-01, 1.23319752e-03],\n",
       "       [1.00000000e+00, 4.92270985e-14],\n",
       "       [9.99989986e-01, 1.00531634e-05],\n",
       "       [9.98714328e-01, 1.28564704e-03],\n",
       "       [1.22812979e-01, 8.77187014e-01],\n",
       "       [9.99999881e-01, 8.93478926e-08],\n",
       "       [9.99924541e-01, 7.54552239e-05],\n",
       "       [2.04338916e-02, 9.79566038e-01],\n",
       "       [7.88307842e-03, 9.92116988e-01],\n",
       "       [9.99693871e-01, 3.06145026e-04],\n",
       "       [9.99996305e-01, 3.66187192e-06],\n",
       "       [9.41219330e-02, 9.05878127e-01],\n",
       "       [2.69400645e-02, 9.73059952e-01],\n",
       "       [1.30829886e-02, 9.86917019e-01],\n",
       "       [9.99780238e-01, 2.19735579e-04],\n",
       "       [9.99994040e-01, 5.91494154e-06],\n",
       "       [9.99749362e-01, 2.50580633e-04],\n",
       "       [9.99375045e-01, 6.24973443e-04],\n",
       "       [9.99894857e-01, 1.05090803e-04],\n",
       "       [9.99506831e-01, 4.93177737e-04],\n",
       "       [9.99803126e-01, 1.96938330e-04],\n",
       "       [1.00000000e+00, 3.99162525e-09],\n",
       "       [1.00000000e+00, 5.11768192e-08],\n",
       "       [8.79656196e-01, 1.20343812e-01],\n",
       "       [9.99692440e-01, 3.07548617e-04],\n",
       "       [5.16477764e-01, 4.83522177e-01],\n",
       "       [7.14457482e-02, 9.28554237e-01],\n",
       "       [9.98886406e-01, 1.11359404e-03],\n",
       "       [2.48198107e-01, 7.51801848e-01],\n",
       "       [1.00000000e+00, 4.00727349e-15],\n",
       "       [9.99999762e-01, 2.83864949e-07],\n",
       "       [1.08425096e-02, 9.89157438e-01],\n",
       "       [5.90052493e-02, 9.40994799e-01],\n",
       "       [7.24992901e-02, 9.27500725e-01],\n",
       "       [9.98823225e-01, 1.17675937e-03],\n",
       "       [9.99897957e-01, 1.02024744e-04],\n",
       "       [9.99977112e-01, 2.28813096e-05],\n",
       "       [3.47689569e-01, 6.52310431e-01],\n",
       "       [6.64918840e-01, 3.35081160e-01],\n",
       "       [2.67794281e-01, 7.32205749e-01],\n",
       "       [1.04924869e-02, 9.89507496e-01],\n",
       "       [2.80340649e-02, 9.71965909e-01],\n",
       "       [2.75856163e-02, 9.72414434e-01],\n",
       "       [9.99940872e-01, 5.90761192e-05],\n",
       "       [9.99957919e-01, 4.21364894e-05],\n",
       "       [3.54596577e-03, 9.96454000e-01],\n",
       "       [9.99517798e-01, 4.82190866e-04],\n",
       "       [2.36510579e-02, 9.76348996e-01],\n",
       "       [9.99958038e-01, 4.19582102e-05],\n",
       "       [9.99771774e-01, 2.28233213e-04],\n",
       "       [9.98787701e-01, 1.21226569e-03],\n",
       "       [9.95277286e-01, 4.72272234e-03],\n",
       "       [2.16878042e-01, 7.83121943e-01],\n",
       "       [9.96519446e-01, 3.48052359e-03],\n",
       "       [1.23560727e-02, 9.87643898e-01],\n",
       "       [9.99998212e-01, 1.78309722e-06],\n",
       "       [9.99079347e-01, 9.20678896e-04],\n",
       "       [9.99920487e-01, 7.94710140e-05],\n",
       "       [5.14381945e-01, 4.85618085e-01],\n",
       "       [1.39852632e-02, 9.86014724e-01],\n",
       "       [2.20230594e-02, 9.77976918e-01],\n",
       "       [9.97978628e-01, 2.02137209e-03],\n",
       "       [9.99845028e-01, 1.54920752e-04],\n",
       "       [1.86343100e-02, 9.81365681e-01],\n",
       "       [9.99999404e-01, 5.56349903e-07],\n",
       "       [1.00000000e+00, 2.53774548e-08],\n",
       "       [2.08048485e-02, 9.79195118e-01],\n",
       "       [9.99965668e-01, 3.43302127e-05],\n",
       "       [1.62183419e-01, 8.37816536e-01],\n",
       "       [9.99882460e-01, 1.17525742e-04],\n",
       "       [8.10512722e-01, 1.89487308e-01],\n",
       "       [9.99994874e-01, 5.14159274e-06],\n",
       "       [9.99681830e-01, 3.18209117e-04],\n",
       "       [9.52744663e-01, 4.72553596e-02],\n",
       "       [1.79817621e-02, 9.82018232e-01],\n",
       "       [2.12133601e-02, 9.78786647e-01],\n",
       "       [6.07151270e-01, 3.92848700e-01],\n",
       "       [2.40935590e-02, 9.75906491e-01],\n",
       "       [7.57959932e-02, 9.24203992e-01],\n",
       "       [9.99923587e-01, 7.63668795e-05],\n",
       "       [6.27236784e-01, 3.72763216e-01],\n",
       "       [4.30671722e-02, 9.56932843e-01],\n",
       "       [1.78665519e-02, 9.82133448e-01],\n",
       "       [9.99971867e-01, 2.81558878e-05],\n",
       "       [9.97311950e-01, 2.68806727e-03],\n",
       "       [9.93078172e-01, 6.92175003e-03],\n",
       "       [9.88930643e-01, 1.10693406e-02],\n",
       "       [9.99616146e-01, 3.83800565e-04],\n",
       "       [9.89085734e-01, 1.09142419e-02],\n",
       "       [1.22177809e-01, 8.77822220e-01],\n",
       "       [9.99999285e-01, 7.22740538e-07],\n",
       "       [9.99839902e-01, 1.60026771e-04],\n",
       "       [4.20473158e-01, 5.79526901e-01],\n",
       "       [1.24167427e-02, 9.87583220e-01],\n",
       "       [7.78258026e-01, 2.21741974e-01],\n",
       "       [1.00000000e+00, 2.15966242e-13],\n",
       "       [8.19217026e-01, 1.80782989e-01],\n",
       "       [1.75341852e-02, 9.82465863e-01],\n",
       "       [4.20124382e-02, 9.57987487e-01],\n",
       "       [1.00000000e+00, 6.16601570e-09],\n",
       "       [3.26247752e-01, 6.73752308e-01],\n",
       "       [9.97313917e-01, 2.68611987e-03],\n",
       "       [1.00000000e+00, 8.68862274e-14],\n",
       "       [9.99977350e-01, 2.26707107e-05],\n",
       "       [3.40736634e-03, 9.96592581e-01],\n",
       "       [9.99268949e-01, 7.31061911e-04],\n",
       "       [9.98887241e-01, 1.11280347e-03],\n",
       "       [2.03309745e-01, 7.96690226e-01],\n",
       "       [1.00000000e+00, 2.83161653e-15],\n",
       "       [9.98569965e-01, 1.42997270e-03],\n",
       "       [9.99999642e-01, 3.30262736e-07],\n",
       "       [9.98985946e-01, 1.01408060e-03],\n",
       "       [3.03670182e-03, 9.96963322e-01],\n",
       "       [9.99997854e-01, 2.11948986e-06],\n",
       "       [3.29414345e-02, 9.67058539e-01],\n",
       "       [9.99476612e-01, 5.23446361e-04],\n",
       "       [9.98487830e-01, 1.51217286e-03]], dtype=float32)"
      ]
     },
     "execution_count": 21,
     "metadata": {},
     "output_type": "execute_result"
    }
   ],
   "source": [
    "y_pred"
   ]
  },
  {
   "cell_type": "code",
   "execution_count": 22,
   "metadata": {},
   "outputs": [],
   "source": [
    "import numpy as np\n",
    "y_pred = np.argmax(y_pred, axis=1)"
   ]
  },
  {
   "cell_type": "code",
   "execution_count": 23,
   "metadata": {},
   "outputs": [
    {
     "data": {
      "text/plain": [
       "array([1, 0, 1, 1, 0, 0, 1, 0, 1, 0, 0, 1, 1, 0, 0, 1, 1, 0, 0, 0, 0, 1,\n",
       "       0, 0, 1, 1, 0, 0, 1, 1, 1, 0, 0, 0, 0, 0, 0, 0, 0, 0, 0, 0, 0, 1,\n",
       "       0, 1, 0, 0, 1, 1, 1, 0, 0, 0, 1, 0, 1, 1, 1, 1, 0, 0, 1, 0, 1, 0,\n",
       "       0, 0, 0, 1, 0, 1, 0, 0, 0, 0, 1, 1, 0, 0, 1, 0, 0, 1, 0, 1, 0, 0,\n",
       "       0, 0, 0, 1, 1, 0, 1, 1, 0, 0, 1, 1, 0, 0, 0, 0, 0, 0, 1, 0, 0, 1,\n",
       "       1, 0, 0, 0, 1, 1, 0, 1, 0, 0, 0, 1, 0, 0, 1, 0, 0, 0, 0, 1, 0, 1,\n",
       "       0, 0], dtype=int64)"
      ]
     },
     "execution_count": 23,
     "metadata": {},
     "output_type": "execute_result"
    }
   ],
   "source": [
    "y_pred"
   ]
  },
  {
   "cell_type": "code",
   "execution_count": 24,
   "metadata": {},
   "outputs": [],
   "source": [
    "from tensorflow.keras.models import load_model\n",
    "from tensorflow.keras.preprocessing import image"
   ]
  },
  {
   "cell_type": "code",
   "execution_count": 25,
   "metadata": {},
   "outputs": [],
   "source": [
    "model=load_model('model_vgg19.h5')"
   ]
  },
  {
   "cell_type": "code",
   "execution_count": 26,
   "metadata": {},
   "outputs": [],
   "source": [
    "img=image.load_img('C:/Users/hi/Downloads/Dataset/Test/Uninfected/2.png',target_size=(224,224))"
   ]
  },
  {
   "cell_type": "code",
   "execution_count": 27,
   "metadata": {},
   "outputs": [
    {
     "data": {
      "text/plain": [
       "array([[[0., 0., 0.],\n",
       "        [0., 0., 0.],\n",
       "        [0., 0., 0.],\n",
       "        ...,\n",
       "        [0., 0., 0.],\n",
       "        [0., 0., 0.],\n",
       "        [0., 0., 0.]],\n",
       "\n",
       "       [[0., 0., 0.],\n",
       "        [0., 0., 0.],\n",
       "        [0., 0., 0.],\n",
       "        ...,\n",
       "        [0., 0., 0.],\n",
       "        [0., 0., 0.],\n",
       "        [0., 0., 0.]],\n",
       "\n",
       "       [[0., 0., 0.],\n",
       "        [0., 0., 0.],\n",
       "        [0., 0., 0.],\n",
       "        ...,\n",
       "        [0., 0., 0.],\n",
       "        [0., 0., 0.],\n",
       "        [0., 0., 0.]],\n",
       "\n",
       "       ...,\n",
       "\n",
       "       [[0., 0., 0.],\n",
       "        [0., 0., 0.],\n",
       "        [0., 0., 0.],\n",
       "        ...,\n",
       "        [0., 0., 0.],\n",
       "        [0., 0., 0.],\n",
       "        [0., 0., 0.]],\n",
       "\n",
       "       [[0., 0., 0.],\n",
       "        [0., 0., 0.],\n",
       "        [0., 0., 0.],\n",
       "        ...,\n",
       "        [0., 0., 0.],\n",
       "        [0., 0., 0.],\n",
       "        [0., 0., 0.]],\n",
       "\n",
       "       [[0., 0., 0.],\n",
       "        [0., 0., 0.],\n",
       "        [0., 0., 0.],\n",
       "        ...,\n",
       "        [0., 0., 0.],\n",
       "        [0., 0., 0.],\n",
       "        [0., 0., 0.]]], dtype=float32)"
      ]
     },
     "execution_count": 27,
     "metadata": {},
     "output_type": "execute_result"
    }
   ],
   "source": [
    "x=image.img_to_array(img)\n",
    "x"
   ]
  },
  {
   "cell_type": "code",
   "execution_count": 28,
   "metadata": {},
   "outputs": [
    {
     "data": {
      "text/plain": [
       "(224, 224, 3)"
      ]
     },
     "execution_count": 28,
     "metadata": {},
     "output_type": "execute_result"
    }
   ],
   "source": [
    "x.shape"
   ]
  },
  {
   "cell_type": "code",
   "execution_count": 29,
   "metadata": {},
   "outputs": [],
   "source": [
    "x=x/255"
   ]
  },
  {
   "cell_type": "code",
   "execution_count": 30,
   "metadata": {},
   "outputs": [
    {
     "data": {
      "text/plain": [
       "(1, 224, 224, 3)"
      ]
     },
     "execution_count": 30,
     "metadata": {},
     "output_type": "execute_result"
    }
   ],
   "source": [
    "x=np.expand_dims(x,axis=0)\n",
    "img_data=preprocess_input(x)\n",
    "img_data.shape"
   ]
  },
  {
   "cell_type": "code",
   "execution_count": 31,
   "metadata": {},
   "outputs": [
    {
     "name": "stdout",
     "output_type": "stream",
     "text": [
      "1/1 [==============================] - 0s 219ms/step\n"
     ]
    },
    {
     "data": {
      "text/plain": [
       "array([[1., 0.]], dtype=float32)"
      ]
     },
     "execution_count": 31,
     "metadata": {},
     "output_type": "execute_result"
    }
   ],
   "source": [
    "model.predict(img_data)"
   ]
  },
  {
   "cell_type": "code",
   "execution_count": 48,
   "metadata": {},
   "outputs": [
    {
     "name": "stdout",
     "output_type": "stream",
     "text": [
      "1/1 [==============================] - 0s 40ms/step\n"
     ]
    }
   ],
   "source": [
    "a=np.argmax(model.predict(img_data), axis=1)"
   ]
  },
  {
   "cell_type": "code",
   "execution_count": 55,
   "metadata": {},
   "outputs": [
    {
     "name": "stdout",
     "output_type": "stream",
     "text": [
      "Uninfected\n"
     ]
    }
   ],
   "source": [
    "if(a==1):\n",
    "    print(\"infected\")\n",
    "else:\n",
    "    print(\"Uninfected\")"
   ]
  },
  {
   "cell_type": "code",
   "execution_count": null,
   "metadata": {},
   "outputs": [],
   "source": []
  }
 ],
 "metadata": {
  "kernelspec": {
   "display_name": "Python 3",
   "language": "python",
   "name": "python3"
  },
  "language_info": {
   "codemirror_mode": {
    "name": "ipython",
    "version": 3
   },
   "file_extension": ".py",
   "mimetype": "text/x-python",
   "name": "python",
   "nbconvert_exporter": "python",
   "pygments_lexer": "ipython3",
   "version": "3.8.5"
  }
 },
 "nbformat": 4,
 "nbformat_minor": 4
}
